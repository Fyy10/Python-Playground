{
 "cells": [
  {
   "cell_type": "code",
   "execution_count": 74,
   "metadata": {
    "collapsed": false
   },
   "outputs": [],
   "source": [
    "# 查看当前挂载的数据集目录, 该目录下的变更重启环境后会自动还原\n",
    "# View dataset directory. This directory will be recovered automatically after resetting environment. \n",
    "# !ls /home/aistudio/data"
   ]
  },
  {
   "cell_type": "code",
   "execution_count": 75,
   "metadata": {
    "collapsed": false
   },
   "outputs": [],
   "source": [
    "# 查看工作区文件, 该目录下的变更将会持久保存. 请及时清理不必要的文件, 避免加载过慢.\n",
    "# View personal work directory. All changes under this directory will be kept even after reset. Please clean unnecessary files in time to speed up environment loading.\n",
    "# !ls /home/aistudio/work"
   ]
  },
  {
   "cell_type": "code",
   "execution_count": 76,
   "metadata": {
    "collapsed": false
   },
   "outputs": [],
   "source": [
    "# 如果需要进行持久化安装, 需要使用持久化路径, 如下方代码示例:\n",
    "# If a persistence installation is required, you need to use the persistence path as the following:\n",
    "# !mkdir /home/aistudio/external-libraries\n",
    "# !pip install beautifulsoup4 -t /home/aistudio/external-libraries"
   ]
  },
  {
   "cell_type": "code",
   "execution_count": 77,
   "metadata": {
    "collapsed": false
   },
   "outputs": [],
   "source": [
    "# 同时添加如下代码, 这样每次环境(kernel)启动的时候只要运行下方代码即可:\r\n",
    "# Also add the following code, so that every time the environment (kernel) starts, just run the following code:\r\n",
    "# import sys\r\n",
    "# sys.path.append('/home/aistudio/external-libraries')"
   ]
  },
  {
   "cell_type": "code",
   "execution_count": 78,
   "metadata": {
    "collapsed": false
   },
   "outputs": [
    {
     "name": "stdout",
     "output_type": "stream",
     "text": [
      "<class 'tuple'>\n",
      "(784,)\n",
      "5\n"
     ]
    }
   ],
   "source": [
    "import numpy as np\r\n",
    "import paddle\r\n",
    "from paddle import fluid\r\n",
    "from PIL import Image\r\n",
    "import matplotlib.pyplot as plt\r\n",
    "import os\r\n",
    "\r\n",
    "buf_size = 512\r\n",
    "batch_size = 128\r\n",
    "# dataloader train\r\n",
    "train_loader = paddle.batch(paddle.reader.shuffle(paddle.dataset.mnist.train(), buf_size), batch_size=batch_size)\r\n",
    "test_loader = paddle.batch(paddle.reader.shuffle(paddle.dataset.mnist.test(), buf_size), batch_size=batch_size)\r\n",
    "train_data = paddle.dataset.mnist.train()\r\n",
    "sample_data = next(train_data())\r\n",
    "print(type(sample_data))\r\n",
    "# image: numpy array (784,)\r\n",
    "print(sample_data[0].shape)\r\n",
    "# label: int\r\n",
    "print(sample_data[1])\r\n",
    "# print(sample_data)"
   ]
  },
  {
   "cell_type": "code",
   "execution_count": 79,
   "metadata": {
    "collapsed": false
   },
   "outputs": [],
   "source": [
    "# multilayer perceptron\r\n",
    "def MLP(input):\r\n",
    "    hidden1 = fluid.layers.fc(input=input, size=512, act='leaky_relu')\r\n",
    "    hidden2 = fluid.layers.dropout(fluid.layers.fc(input=hidden1, size=256, act='leaky_relu'), 0.2)\r\n",
    "    hidden3 = fluid.layers.dropout(fluid.layers.batch_norm(fluid.layers.fc(input=hidden2, size=128, act=None), act='leaky_relu'), 0.2)\r\n",
    "    hidden4 = fluid.layers.dropout(fluid.layers.batch_norm(fluid.layers.fc(input=hidden3, size=64, act=None), act='relu'), 0.1)\r\n",
    "    prediction = fluid.layers.fc(input=hidden4, size=10, act='softmax')\r\n",
    "    return prediction"
   ]
  },
  {
   "cell_type": "code",
   "execution_count": 80,
   "metadata": {
    "collapsed": false
   },
   "outputs": [
    {
     "name": "stdout",
     "output_type": "stream",
     "text": [
      "<class 'paddle.fluid.framework.Variable'>\n",
      "<class 'paddle.fluid.framework.Variable'>\n"
     ]
    }
   ],
   "source": [
    "image = fluid.layers.data(name='image', shape=[1, 28, 28], dtype='float32')\r\n",
    "print(type(image))\r\n",
    "label = fluid.layers.data(name='label', shape=[1], dtype='int64')\r\n",
    "print(type(label))"
   ]
  },
  {
   "cell_type": "code",
   "execution_count": 81,
   "metadata": {
    "collapsed": false
   },
   "outputs": [
    {
     "name": "stdout",
     "output_type": "stream",
     "text": [
      "<class 'paddle.fluid.framework.Variable'>\n"
     ]
    }
   ],
   "source": [
    "# classifier\r\n",
    "predict = MLP(image)\r\n",
    "print(type(predict))"
   ]
  },
  {
   "cell_type": "code",
   "execution_count": 82,
   "metadata": {
    "collapsed": false
   },
   "outputs": [
    {
     "name": "stdout",
     "output_type": "stream",
     "text": [
      "<class 'paddle.fluid.framework.Variable'>\n",
      "<class 'paddle.fluid.framework.Variable'>\n",
      "<class 'paddle.fluid.framework.Variable'>\n"
     ]
    }
   ],
   "source": [
    "# define loss and accuracy\r\n",
    "cost = fluid.layers.cross_entropy(input=predict, label=label)\r\n",
    "print(type(cost))\r\n",
    "avg_cost = fluid.layers.mean(cost)\r\n",
    "print(type(avg_cost))\r\n",
    "acc = fluid.layers.accuracy(input=predict, label=label)\r\n",
    "print(type(acc))"
   ]
  },
  {
   "cell_type": "code",
   "execution_count": 83,
   "metadata": {
    "collapsed": false
   },
   "outputs": [],
   "source": [
    "# optimizer\r\n",
    "optimizer = fluid.optimizer.AdamOptimizer(learning_rate=1e-4)\r\n",
    "# optimizer = fluid.optimizer.SGDOptimizer(learning_rate=1e-3)\r\n",
    "opts = optimizer.minimize(avg_cost)"
   ]
  },
  {
   "cell_type": "code",
   "execution_count": 84,
   "metadata": {
    "collapsed": false
   },
   "outputs": [
    {
     "name": "stdout",
     "output_type": "stream",
     "text": [
      "<class 'paddle.fluid.core_avx.CUDAPlace'>\n",
      "<class 'paddle.fluid.framework.Program'>\n",
      "<class 'paddle.fluid.executor.Executor'>\n"
     ]
    },
    {
     "data": {
      "text/plain": [
       "[]"
      ]
     },
     "execution_count": 84,
     "metadata": {},
     "output_type": "execute_result"
    }
   ],
   "source": [
    "use_cuda = True\r\n",
    "place = fluid.CUDAPlace(0) if use_cuda else fluid.CPUPlace()\r\n",
    "print(type(place))\r\n",
    "\r\n",
    "test_program = fluid.default_main_program().clone(for_test=True)\r\n",
    "print(type(test_program))\r\n",
    "exe = fluid.Executor(place)\r\n",
    "print(type(exe))\r\n",
    "exe.run(fluid.default_startup_program())"
   ]
  },
  {
   "cell_type": "code",
   "execution_count": 85,
   "metadata": {
    "collapsed": false
   },
   "outputs": [
    {
     "name": "stdout",
     "output_type": "stream",
     "text": [
      "<class 'paddle.fluid.data_feeder.DataFeeder'>\n"
     ]
    }
   ],
   "source": [
    "feeder = fluid.DataFeeder(place=place, feed_list=[image, label])\r\n",
    "print(type(feeder))"
   ]
  },
  {
   "cell_type": "code",
   "execution_count": 86,
   "metadata": {
    "collapsed": false
   },
   "outputs": [],
   "source": [
    "# visualize\r\n",
    "all_train_iter = 0\r\n",
    "all_train_iters = []\r\n",
    "all_train_costs = []\r\n",
    "all_train_accs = []\r\n",
    "\r\n",
    "def draw_train_process(title, iters, costs, accs, label_cost, label_acc):\r\n",
    "    plt.title(title, fontsize=24)\r\n",
    "    plt.xlabel('iter', fontsize=20)\r\n",
    "    plt.ylabel('cost/acc', fontsize=20)\r\n",
    "    plt.plot(iters, costs, color='r', label=label_cost)\r\n",
    "    plt.plot(iters, accs, color='g', label=label_acc)\r\n",
    "    plt.legend()\r\n",
    "    plt.grid()\r\n",
    "    plt.show()"
   ]
  },
  {
   "cell_type": "code",
   "execution_count": 87,
   "metadata": {
    "collapsed": false
   },
   "outputs": [
    {
     "name": "stdout",
     "output_type": "stream",
     "text": [
      "Epoch: 0, Batch: 0, Cost: 2.62263, Accuracy: 0.07812\n",
      "Epoch: 0, Batch: 200, Cost: 0.82577, Accuracy: 0.81250\n",
      "Epoch: 0, Batch: 400, Cost: 0.48065, Accuracy: 0.89844\n",
      "Test: 0, Cost: 0.37133, Accuracy: 0.92000\n",
      "Epoch: 1, Batch: 0, Cost: 0.42466, Accuracy: 0.91406\n",
      "Epoch: 1, Batch: 200, Cost: 0.32507, Accuracy: 0.93750\n",
      "Epoch: 1, Batch: 400, Cost: 0.26242, Accuracy: 0.93750\n",
      "Test: 1, Cost: 0.22188, Accuracy: 0.94422\n",
      "Epoch: 2, Batch: 0, Cost: 0.27418, Accuracy: 0.92188\n",
      "Epoch: 2, Batch: 200, Cost: 0.25027, Accuracy: 0.93750\n",
      "Epoch: 2, Batch: 400, Cost: 0.14220, Accuracy: 0.97656\n",
      "Test: 2, Cost: 0.15996, Accuracy: 0.95698\n",
      "Epoch: 3, Batch: 0, Cost: 0.25262, Accuracy: 0.93750\n",
      "Epoch: 3, Batch: 200, Cost: 0.14274, Accuracy: 0.97656\n",
      "Epoch: 3, Batch: 400, Cost: 0.12822, Accuracy: 0.97656\n",
      "Test: 3, Cost: 0.13061, Accuracy: 0.96479\n",
      "Epoch: 4, Batch: 0, Cost: 0.18366, Accuracy: 0.93750\n",
      "Epoch: 4, Batch: 200, Cost: 0.21986, Accuracy: 0.93750\n",
      "Epoch: 4, Batch: 400, Cost: 0.11270, Accuracy: 0.98438\n",
      "Test: 4, Cost: 0.11457, Accuracy: 0.96845\n",
      "Epoch: 5, Batch: 0, Cost: 0.12605, Accuracy: 0.97656\n",
      "Epoch: 5, Batch: 200, Cost: 0.07579, Accuracy: 0.98438\n",
      "Test: 5, Cost: 0.10303, Accuracy: 0.96905\n",
      "Epoch: 6, Batch: 0, Cost: 0.20261, Accuracy: 0.93750\n",
      "Epoch: 6, Batch: 200, Cost: 0.08133, Accuracy: 0.97656\n",
      "Epoch: 6, Batch: 400, Cost: 0.12724, Accuracy: 0.95312\n",
      "Test: 6, Cost: 0.09692, Accuracy: 0.97152\n",
      "Epoch: 7, Batch: 0, Cost: 0.15066, Accuracy: 0.97656\n",
      "Epoch: 7, Batch: 200, Cost: 0.10499, Accuracy: 0.95312\n",
      "Epoch: 7, Batch: 400, Cost: 0.09159, Accuracy: 0.98438\n",
      "Test: 7, Cost: 0.09060, Accuracy: 0.97320\n",
      "Epoch: 8, Batch: 0, Cost: 0.13301, Accuracy: 0.96094\n",
      "Epoch: 8, Batch: 200, Cost: 0.03199, Accuracy: 1.00000\n",
      "Epoch: 8, Batch: 400, Cost: 0.04498, Accuracy: 0.99219\n",
      "Test: 8, Cost: 0.08653, Accuracy: 0.97350\n",
      "Epoch: 9, Batch: 0, Cost: 0.07564, Accuracy: 0.98438\n",
      "Epoch: 9, Batch: 200, Cost: 0.05623, Accuracy: 0.97656\n",
      "Epoch: 9, Batch: 400, Cost: 0.03740, Accuracy: 0.99219\n",
      "Test: 9, Cost: 0.07949, Accuracy: 0.97567\n",
      "Epoch: 10, Batch: 0, Cost: 0.08212, Accuracy: 0.98438\n",
      "Epoch: 10, Batch: 200, Cost: 0.06516, Accuracy: 0.97656\n",
      "Epoch: 10, Batch: 400, Cost: 0.00905, Accuracy: 1.00000\n",
      "Test: 10, Cost: 0.07729, Accuracy: 0.97567\n",
      "Epoch: 11, Batch: 0, Cost: 0.09566, Accuracy: 0.97656\n",
      "Epoch: 11, Batch: 200, Cost: 0.04473, Accuracy: 0.98438\n",
      "Epoch: 11, Batch: 400, Cost: 0.05005, Accuracy: 0.98438\n",
      "Test: 11, Cost: 0.07218, Accuracy: 0.97913\n",
      "Epoch: 12, Batch: 0, Cost: 0.08853, Accuracy: 0.98438\n",
      "Epoch: 12, Batch: 200, Cost: 0.09839, Accuracy: 0.96875\n",
      "Epoch: 12, Batch: 400, Cost: 0.06003, Accuracy: 0.97656\n",
      "Test: 12, Cost: 0.07816, Accuracy: 0.97785\n",
      "Epoch: 13, Batch: 0, Cost: 0.06196, Accuracy: 0.98438\n",
      "Epoch: 13, Batch: 200, Cost: 0.06095, Accuracy: 0.97656\n",
      "Epoch: 13, Batch: 400, Cost: 0.02788, Accuracy: 0.99219\n",
      "Test: 13, Cost: 0.07522, Accuracy: 0.97775\n",
      "Epoch: 14, Batch: 0, Cost: 0.10420, Accuracy: 0.98438\n",
      "Epoch: 14, Batch: 200, Cost: 0.05766, Accuracy: 0.97656\n",
      "Epoch: 14, Batch: 400, Cost: 0.11993, Accuracy: 0.96875\n",
      "Test: 14, Cost: 0.07247, Accuracy: 0.97923\n",
      "Epoch: 15, Batch: 0, Cost: 0.00517, Accuracy: 1.00000\n",
      "Epoch: 15, Batch: 200, Cost: 0.01805, Accuracy: 0.99219\n",
      "Epoch: 15, Batch: 400, Cost: 0.06282, Accuracy: 0.98438\n",
      "Test: 15, Cost: 0.07747, Accuracy: 0.97834\n",
      "Epoch: 16, Batch: 0, Cost: 0.01141, Accuracy: 1.00000\n",
      "Epoch: 16, Batch: 200, Cost: 0.02420, Accuracy: 1.00000\n",
      "Epoch: 16, Batch: 400, Cost: 0.01354, Accuracy: 1.00000\n",
      "Test: 16, Cost: 0.06820, Accuracy: 0.98101\n",
      "Epoch: 17, Batch: 0, Cost: 0.01974, Accuracy: 0.99219\n",
      "Epoch: 17, Batch: 200, Cost: 0.03296, Accuracy: 0.98438\n",
      "Epoch: 17, Batch: 400, Cost: 0.03174, Accuracy: 0.99219\n",
      "Test: 17, Cost: 0.07949, Accuracy: 0.97706\n",
      "Epoch: 18, Batch: 0, Cost: 0.05658, Accuracy: 0.97656\n",
      "Epoch: 18, Batch: 200, Cost: 0.02091, Accuracy: 1.00000\n",
      "Epoch: 18, Batch: 400, Cost: 0.09279, Accuracy: 0.96875\n",
      "Test: 18, Cost: 0.07524, Accuracy: 0.97913\n",
      "Epoch: 19, Batch: 0, Cost: 0.05692, Accuracy: 0.96875\n",
      "Epoch: 19, Batch: 200, Cost: 0.00602, Accuracy: 1.00000\n",
      "Epoch: 19, Batch: 400, Cost: 0.01980, Accuracy: 0.99219\n",
      "Test: 19, Cost: 0.07248, Accuracy: 0.98052\n",
      "Epoch: 20, Batch: 0, Cost: 0.04954, Accuracy: 0.98438\n",
      "Epoch: 20, Batch: 200, Cost: 0.01961, Accuracy: 1.00000\n",
      "Epoch: 20, Batch: 400, Cost: 0.00594, Accuracy: 1.00000\n",
      "Test: 20, Cost: 0.08072, Accuracy: 0.97676\n",
      "Epoch: 21, Batch: 0, Cost: 0.04213, Accuracy: 0.97656\n",
      "Epoch: 21, Batch: 200, Cost: 0.00525, Accuracy: 1.00000\n",
      "Epoch: 21, Batch: 400, Cost: 0.01077, Accuracy: 1.00000\n",
      "Test: 21, Cost: 0.07546, Accuracy: 0.97983\n",
      "Epoch: 22, Batch: 0, Cost: 0.04617, Accuracy: 0.99219\n",
      "Epoch: 22, Batch: 200, Cost: 0.01077, Accuracy: 0.99219\n",
      "Epoch: 22, Batch: 400, Cost: 0.01068, Accuracy: 1.00000\n",
      "Test: 22, Cost: 0.07741, Accuracy: 0.97824\n",
      "Epoch: 23, Batch: 0, Cost: 0.01152, Accuracy: 1.00000\n",
      "Epoch: 23, Batch: 200, Cost: 0.00667, Accuracy: 1.00000\n",
      "Epoch: 23, Batch: 400, Cost: 0.04925, Accuracy: 0.99219\n",
      "Test: 23, Cost: 0.07909, Accuracy: 0.97874\n",
      "Epoch: 24, Batch: 0, Cost: 0.03923, Accuracy: 0.99219\n",
      "Epoch: 24, Batch: 200, Cost: 0.01981, Accuracy: 0.99219\n",
      "Epoch: 24, Batch: 400, Cost: 0.02091, Accuracy: 0.99219\n",
      "Test: 24, Cost: 0.07886, Accuracy: 0.97854\n",
      "Epoch: 25, Batch: 0, Cost: 0.02087, Accuracy: 0.99219\n",
      "Epoch: 25, Batch: 200, Cost: 0.01591, Accuracy: 0.99219\n",
      "Epoch: 25, Batch: 400, Cost: 0.01073, Accuracy: 1.00000\n",
      "Test: 25, Cost: 0.08516, Accuracy: 0.97834\n",
      "Epoch: 26, Batch: 0, Cost: 0.04716, Accuracy: 0.98438\n",
      "Epoch: 26, Batch: 200, Cost: 0.00983, Accuracy: 0.99219\n",
      "Epoch: 26, Batch: 400, Cost: 0.04679, Accuracy: 0.98438\n",
      "Test: 26, Cost: 0.07761, Accuracy: 0.97992\n",
      "Epoch: 27, Batch: 0, Cost: 0.09753, Accuracy: 0.98438\n",
      "Epoch: 27, Batch: 200, Cost: 0.00254, Accuracy: 1.00000\n",
      "Epoch: 27, Batch: 400, Cost: 0.00870, Accuracy: 1.00000\n",
      "Test: 27, Cost: 0.07884, Accuracy: 0.98062\n",
      "Epoch: 28, Batch: 0, Cost: 0.03342, Accuracy: 0.98438\n",
      "Epoch: 28, Batch: 200, Cost: 0.01132, Accuracy: 1.00000\n",
      "Epoch: 28, Batch: 400, Cost: 0.02629, Accuracy: 0.99219\n",
      "Test: 28, Cost: 0.07654, Accuracy: 0.97844\n",
      "Epoch: 29, Batch: 0, Cost: 0.03741, Accuracy: 0.98438\n",
      "Epoch: 29, Batch: 200, Cost: 0.01425, Accuracy: 1.00000\n",
      "Epoch: 29, Batch: 400, Cost: 0.01044, Accuracy: 1.00000\n",
      "Test: 29, Cost: 0.07308, Accuracy: 0.98180\n",
      "Epoch: 30, Batch: 0, Cost: 0.01823, Accuracy: 0.98438\n",
      "Epoch: 30, Batch: 200, Cost: 0.01289, Accuracy: 0.99219\n",
      "Epoch: 30, Batch: 400, Cost: 0.00627, Accuracy: 1.00000\n",
      "Test: 30, Cost: 0.07575, Accuracy: 0.98032\n",
      "Epoch: 31, Batch: 0, Cost: 0.00723, Accuracy: 1.00000\n",
      "Epoch: 31, Batch: 200, Cost: 0.04268, Accuracy: 0.99219\n",
      "Epoch: 31, Batch: 400, Cost: 0.02389, Accuracy: 0.99219\n",
      "Test: 31, Cost: 0.07275, Accuracy: 0.98072\n",
      "Epoch: 32, Batch: 0, Cost: 0.02334, Accuracy: 0.98438\n",
      "Epoch: 32, Batch: 200, Cost: 0.00429, Accuracy: 1.00000\n",
      "Epoch: 32, Batch: 400, Cost: 0.01144, Accuracy: 1.00000\n",
      "Test: 32, Cost: 0.07541, Accuracy: 0.98101\n",
      "Epoch: 33, Batch: 0, Cost: 0.00982, Accuracy: 0.99219\n",
      "Epoch: 33, Batch: 200, Cost: 0.01318, Accuracy: 0.99219\n",
      "Epoch: 33, Batch: 400, Cost: 0.07141, Accuracy: 0.97656\n",
      "Test: 33, Cost: 0.07629, Accuracy: 0.98012\n",
      "Epoch: 34, Batch: 0, Cost: 0.07414, Accuracy: 0.98438\n",
      "Epoch: 34, Batch: 200, Cost: 0.00095, Accuracy: 1.00000\n",
      "Epoch: 34, Batch: 400, Cost: 0.02807, Accuracy: 0.98438\n",
      "Test: 34, Cost: 0.07573, Accuracy: 0.97963\n",
      "Epoch: 35, Batch: 0, Cost: 0.03689, Accuracy: 0.99219\n",
      "Epoch: 35, Batch: 200, Cost: 0.00473, Accuracy: 1.00000\n",
      "Epoch: 35, Batch: 400, Cost: 0.05960, Accuracy: 0.98438\n",
      "Test: 35, Cost: 0.07624, Accuracy: 0.98121\n",
      "Epoch: 36, Batch: 0, Cost: 0.01375, Accuracy: 0.99219\n",
      "Epoch: 36, Batch: 200, Cost: 0.00518, Accuracy: 1.00000\n",
      "Epoch: 36, Batch: 400, Cost: 0.00615, Accuracy: 1.00000\n",
      "Test: 36, Cost: 0.07250, Accuracy: 0.98289\n",
      "Epoch: 37, Batch: 0, Cost: 0.00804, Accuracy: 1.00000\n",
      "Epoch: 37, Batch: 200, Cost: 0.00419, Accuracy: 1.00000\n",
      "Epoch: 37, Batch: 400, Cost: 0.00399, Accuracy: 1.00000\n",
      "Test: 37, Cost: 0.08540, Accuracy: 0.98032\n",
      "Epoch: 38, Batch: 0, Cost: 0.06624, Accuracy: 0.98438\n",
      "Epoch: 38, Batch: 200, Cost: 0.01774, Accuracy: 0.99219\n",
      "Epoch: 38, Batch: 400, Cost: 0.00237, Accuracy: 1.00000\n",
      "Test: 38, Cost: 0.07782, Accuracy: 0.98121\n",
      "Epoch: 39, Batch: 0, Cost: 0.03440, Accuracy: 0.98438\n",
      "Epoch: 39, Batch: 200, Cost: 0.00706, Accuracy: 1.00000\n",
      "Epoch: 39, Batch: 400, Cost: 0.00244, Accuracy: 1.00000\n",
      "Test: 39, Cost: 0.07704, Accuracy: 0.98072\n",
      "Model saved to/home/aistudio/work/MNIST.pth\n",
      "Training progress done.\n"
     ]
    },
    {
     "data": {
      "image/png": "[encoded data removed]",
      "text/plain": [
       "<Figure size 432x288 with 1 Axes>"
      ]
     },
     "metadata": {},
     "output_type": "display_data"
    }
   ],
   "source": [
    "num_epoch = 40\r\n",
    "model_save_dir = '/home/aistudio/work/MNIST.pth'\r\n",
    "for epoch in range(num_epoch):\r\n",
    "    for batch, data in enumerate(train_loader()):\r\n",
    "        # data: list, len=batch_size\r\n",
    "        # data[0]: tuple (image, label)\r\n",
    "        # data[0][0]: numpy array, shape(784,)\r\n",
    "        # data[0][1]: int, label\r\n",
    "        train_cost, train_acc = exe.run(program=fluid.default_main_program(), feed=feeder.feed(data), fetch_list=[avg_cost, acc])\r\n",
    "        # train_cost, train_acc: numpy array, shape (1,)\r\n",
    "\r\n",
    "        all_train_iter += batch_size\r\n",
    "        all_train_iters.append(all_train_iter)\r\n",
    "\r\n",
    "        all_train_costs.append(train_cost[0])\r\n",
    "        all_train_accs.append(train_acc[0])\r\n",
    "\r\n",
    "        # verbose\r\n",
    "        if batch % 200 == 0:\r\n",
    "            print('Epoch: {}, Batch: {}, Cost: {:.5f}, Accuracy: {:.5f}'.format(epoch, batch, train_cost[0], train_acc[0]))\r\n",
    "        \r\n",
    "    # test\r\n",
    "    test_accs = []\r\n",
    "    test_costs = []\r\n",
    "    for batch, data in enumerate(test_loader()):\r\n",
    "        test_cost, test_acc = exe.run(program=test_program, feed=feeder.feed(data), fetch_list=[avg_cost, acc])\r\n",
    "        test_accs.append(test_acc[0])\r\n",
    "        test_costs.append(test_cost[0])\r\n",
    "\r\n",
    "    # get average score\r\n",
    "    test_cost = (sum(test_costs) / len(test_costs))\r\n",
    "    test_acc = (sum(test_accs) / len(test_accs))\r\n",
    "    print('Test: {}, Cost: {:.5f}, Accuracy: {:.5f}'.format(epoch, test_cost, test_acc))\r\n",
    "\r\n",
    "# save model\r\n",
    "if not os.path.exists(model_save_dir):\r\n",
    "    os.makedirs(model_save_dir)\r\n",
    "\r\n",
    "fluid.io.save_inference_model(model_save_dir, ['image'], [predict], exe)\r\n",
    "print('Model saved to' + model_save_dir)\r\n",
    "\r\n",
    "print('Training progress done.')\r\n",
    "draw_train_process('Training', all_train_iters, all_train_costs, all_train_accs, 'Training cost', 'Training acc')"
   ]
  },
  {
   "cell_type": "code",
   "execution_count": 88,
   "metadata": {
    "collapsed": false
   },
   "outputs": [
    {
     "data": {
      "image/png": "[encoded data removed]",
      "text/plain": [
       "<Figure size 432x288 with 1 Axes>"
      ]
     },
     "metadata": {},
     "output_type": "display_data"
    }
   ],
   "source": [
    "# load image\r\n",
    "def load_image(file):\r\n",
    "    # convert RGB to grey, 'L' represents grey\r\n",
    "    img = Image.open(file).convert('L')\r\n",
    "    img = img.resize((28, 28), Image.ANTIALIAS)\r\n",
    "    img = np.array(img).reshape(1, 1, 28, 28).astype(np.float32)\r\n",
    "    img = img / 255.0 * 2.0 - 1.0\r\n",
    "    return img\r\n",
    "\r\n",
    "\r\n",
    "img_path = '/home/aistudio/work/3.png'\r\n",
    "img = Image.open(img_path)\r\n",
    "plt.imshow(img)\r\n",
    "plt.show()"
   ]
  },
  {
   "cell_type": "code",
   "execution_count": 89,
   "metadata": {
    "collapsed": false
   },
   "outputs": [
    {
     "name": "stdout",
     "output_type": "stream",
     "text": [
      "<class 'paddle.fluid.executor.Executor'>\n",
      "<class 'paddle.fluid.core_avx._Scope'>\n",
      "<class 'paddle.fluid.framework.Program'>\n",
      "['image']\n",
      "<class 'list'>\n",
      "<class 'numpy.ndarray'>\n",
      "Predicted label: 3\n"
     ]
    }
   ],
   "source": [
    "# make predictions\r\n",
    "infer_exe = fluid.Executor(place)\r\n",
    "print(type(infer_exe))\r\n",
    "infer_scope = fluid.core.Scope()\r\n",
    "print(type(infer_scope))\r\n",
    "\r\n",
    "with fluid.scope_guard(infer_scope):\r\n",
    "    [infer_prog, feed_target_names, fetch_targets] = fluid.io.load_inference_model(model_save_dir, infer_exe)\r\n",
    "    print(type(infer_prog))\r\n",
    "    print(feed_target_names)\r\n",
    "    print(type(fetch_targets))\r\n",
    "\r\n",
    "    img = load_image(img_path)\r\n",
    "    print(type(img))\r\n",
    "\r\n",
    "    results = infer_exe.run(program=infer_prog, feed={feed_target_names[0]: img}, fetch_list=fetch_targets)\r\n",
    "    # results: list\r\n",
    "\r\n",
    "    pred_label = np.argmax(results)\r\n",
    "    print('Predicted label: {}'.format(pred_label))"
   ]
  },
  {
   "cell_type": "code",
   "execution_count": 90,
   "metadata": {
    "collapsed": false
   },
   "outputs": [
    {
     "name": "stdout",
     "output_type": "stream",
     "text": [
      "Test Accuracy: 0.98072\n"
     ]
    }
   ],
   "source": [
    "# test on entire test set\r\n",
    "test_accs = []\r\n",
    "test_costs = []\r\n",
    "for batch, data in enumerate(test_loader()):\r\n",
    "    test_cost, test_acc = exe.run(program=test_program, feed=feeder.feed(data), fetch_list=[avg_cost, acc])\r\n",
    "    test_accs.append(test_acc[0])\r\n",
    "    test_costs.append(test_cost[0])\r\n",
    "\r\n",
    "# get average score\r\n",
    "test_cost = (sum(test_costs) / len(test_costs))\r\n",
    "test_acc = (sum(test_accs) / len(test_accs))\r\n",
    "print('Test Accuracy: {:.5f}'.format(test_acc))"
   ]
  },
  {
   "cell_type": "markdown",
   "metadata": {
    "collapsed": false
   },
   "source": [
    "请点击[此处](https://ai.baidu.com/docs#/AIStudio_Project_Notebook/a38e5576)查看本环境基本用法.  <br>\n",
    "Please click [here ](https://ai.baidu.com/docs#/AIStudio_Project_Notebook/a38e5576) for more detailed instructions. "
   ]
  }
 ],
 "metadata": {
  "kernelspec": {
   "display_name": "PaddlePaddle 1.8.4 (Python 3.5)",
   "language": "python",
   "name": "py35-paddle1.2.0"
  },
  "language_info": {
   "codemirror_mode": {
    "name": "ipython",
    "version": 3
   },
   "file_extension": ".py",
   "mimetype": "text/x-python",
   "name": "python",
   "nbconvert_exporter": "python",
   "pygments_lexer": "ipython3",
   "version": "3.7.4"
  }
 },
 "nbformat": 4,
 "nbformat_minor": 1
}
